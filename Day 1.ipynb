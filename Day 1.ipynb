{
 "cells": [
  {
   "cell_type": "markdown",
   "id": "ba0d0c33-8ea7-437b-97fb-f8e46ae21cc1",
   "metadata": {},
   "source": [
    "### NUMBERS"
   ]
  },
  {
   "cell_type": "code",
   "execution_count": 7,
   "id": "3dd66e29-c8eb-4616-b7d7-6b9e658e1542",
   "metadata": {},
   "outputs": [
    {
     "name": "stdout",
     "output_type": "stream",
     "text": [
      "4\n"
     ]
    }
   ],
   "source": [
    "print(1+3)"
   ]
  },
  {
   "cell_type": "code",
   "execution_count": 8,
   "id": "10094778-4703-4130-8865-fb4a94030991",
   "metadata": {},
   "outputs": [
    {
     "name": "stdout",
     "output_type": "stream",
     "text": [
      "5\n"
     ]
    }
   ],
   "source": [
    "a=5\n",
    "print(a)"
   ]
  },
  {
   "cell_type": "code",
   "execution_count": 11,
   "id": "f364a0cb-52c1-4c4b-8b0a-8a2717628413",
   "metadata": {},
   "outputs": [
    {
     "name": "stdout",
     "output_type": "stream",
     "text": [
      "Hello World my name is Aashu\n",
      " i am smart\n"
     ]
    }
   ],
   "source": [
    "print(\"Hello World my name is Aashu\\n i am smart\")"
   ]
  },
  {
   "cell_type": "markdown",
   "id": "61db424c-3ad5-4d82-8466-52b028f09923",
   "metadata": {},
   "source": [
    "## Variable Assignment"
   ]
  },
  {
   "cell_type": "code",
   "execution_count": 16,
   "id": "bc0f14f3-888b-4d98-a574-f099829ddb29",
   "metadata": {},
   "outputs": [],
   "source": [
    "name=\"Ashutosh\""
   ]
  },
  {
   "cell_type": "code",
   "execution_count": 17,
   "id": "54c62693-77c2-48f1-a601-f2547fcbf9bb",
   "metadata": {},
   "outputs": [
    {
     "data": {
      "text/plain": [
       "'Ashutosh'"
      ]
     },
     "execution_count": 17,
     "metadata": {},
     "output_type": "execute_result"
    }
   ],
   "source": [
    "name"
   ]
  },
  {
   "cell_type": "code",
   "execution_count": 19,
   "id": "38fbbaab-1048-4a18-ae64-51673ae5aeca",
   "metadata": {},
   "outputs": [],
   "source": [
    "number=10"
   ]
  },
  {
   "cell_type": "code",
   "execution_count": 20,
   "id": "9d8173ca-b993-434b-8369-8d37d3c5fe55",
   "metadata": {},
   "outputs": [
    {
     "data": {
      "text/plain": [
       "int"
      ]
     },
     "execution_count": 20,
     "metadata": {},
     "output_type": "execute_result"
    }
   ],
   "source": [
    "type(number)"
   ]
  },
  {
   "cell_type": "code",
   "execution_count": 21,
   "id": "b8d588b0-67ce-4cc3-a526-3400ee3f3cf1",
   "metadata": {},
   "outputs": [],
   "source": [
    "decimal_num=2.5"
   ]
  },
  {
   "cell_type": "code",
   "execution_count": 22,
   "id": "4c2c1d22-6034-474e-97b3-b8e7263d81a9",
   "metadata": {},
   "outputs": [
    {
     "data": {
      "text/plain": [
       "float"
      ]
     },
     "execution_count": 22,
     "metadata": {},
     "output_type": "execute_result"
    }
   ],
   "source": [
    "type(decimal_num)"
   ]
  },
  {
   "cell_type": "code",
   "execution_count": 23,
   "id": "9349a026-042a-4818-b4f5-cb0f9003ef2e",
   "metadata": {},
   "outputs": [
    {
     "data": {
      "text/plain": [
       "complex"
      ]
     },
     "execution_count": 23,
     "metadata": {},
     "output_type": "execute_result"
    }
   ],
   "source": [
    "type(1+2j)"
   ]
  },
  {
   "cell_type": "code",
   "execution_count": 24,
   "id": "fdcaa8d1-f97a-4e1f-b6a9-ad63298b72f5",
   "metadata": {},
   "outputs": [],
   "source": [
    "number1=23"
   ]
  },
  {
   "cell_type": "code",
   "execution_count": 25,
   "id": "5de716be-e1c0-4815-816f-2df3de317a0b",
   "metadata": {},
   "outputs": [
    {
     "name": "stdout",
     "output_type": "stream",
     "text": [
      "Pwskill\n"
     ]
    }
   ],
   "source": [
    "## Variables are case sensitive\n",
    "company='ineuron'\n",
    "company=\"Pwskill\"\n",
    "print(company)"
   ]
  },
  {
   "cell_type": "code",
   "execution_count": null,
   "id": "e9e36321-eb99-4c8f-9368-5b3414c3eb7d",
   "metadata": {},
   "outputs": [],
   "source": [
    "## Reserved Keywords\n",
    "'''\n",
    "int,float,len,complex,bool,str,return,yield\n",
    "'''"
   ]
  },
  {
   "cell_type": "code",
   "execution_count": null,
   "id": "a32e8781-9018-4dcf-a6ee-a70ff38e25b8",
   "metadata": {},
   "outputs": [],
   "source": [
    "##Boolean"
   ]
  },
  {
   "cell_type": "code",
   "execution_count": 26,
   "id": "1ae1bd7e-3e4c-44dd-91e4-5c739e4c2bf6",
   "metadata": {},
   "outputs": [
    {
     "data": {
      "text/plain": [
       "False"
      ]
     },
     "execution_count": 26,
     "metadata": {},
     "output_type": "execute_result"
    }
   ],
   "source": [
    "True and False"
   ]
  },
  {
   "cell_type": "code",
   "execution_count": 27,
   "id": "ff16a231-33b5-4ab1-a967-fd77fe707794",
   "metadata": {},
   "outputs": [
    {
     "data": {
      "text/plain": [
       "True"
      ]
     },
     "execution_count": 27,
     "metadata": {},
     "output_type": "execute_result"
    }
   ],
   "source": [
    "True or False"
   ]
  },
  {
   "cell_type": "code",
   "execution_count": 28,
   "id": "921af23a-97ec-491f-bf9c-a95f8b339579",
   "metadata": {},
   "outputs": [
    {
     "data": {
      "text/plain": [
       "False"
      ]
     },
     "execution_count": 28,
     "metadata": {},
     "output_type": "execute_result"
    }
   ],
   "source": [
    "False"
   ]
  },
  {
   "cell_type": "code",
   "execution_count": 30,
   "id": "4b0fb6ff-366e-4a40-819d-bbca0dad552f",
   "metadata": {},
   "outputs": [
    {
     "data": {
      "text/plain": [
       "False"
      ]
     },
     "execution_count": 30,
     "metadata": {},
     "output_type": "execute_result"
    }
   ],
   "source": [
    "## Type Casting\n",
    "bool(0)"
   ]
  },
  {
   "cell_type": "code",
   "execution_count": 31,
   "id": "ace03e30-05f7-44b7-ab2b-2a9c82242436",
   "metadata": {},
   "outputs": [
    {
     "data": {
      "text/plain": [
       "True"
      ]
     },
     "execution_count": 31,
     "metadata": {},
     "output_type": "execute_result"
    }
   ],
   "source": [
    "bool(1)"
   ]
  },
  {
   "cell_type": "code",
   "execution_count": 32,
   "id": "b1a3c3fe-8162-4651-8e39-90b8282ea1b0",
   "metadata": {},
   "outputs": [
    {
     "data": {
      "text/plain": [
       "'23'"
      ]
     },
     "execution_count": 32,
     "metadata": {},
     "output_type": "execute_result"
    }
   ],
   "source": [
    "str(23)"
   ]
  },
  {
   "cell_type": "code",
   "execution_count": 33,
   "id": "f1115c14-c051-4602-b065-c6caee6c1a62",
   "metadata": {},
   "outputs": [
    {
     "data": {
      "text/plain": [
       "23"
      ]
     },
     "execution_count": 33,
     "metadata": {},
     "output_type": "execute_result"
    }
   ],
   "source": [
    "int('23')"
   ]
  },
  {
   "cell_type": "markdown",
   "id": "4bbb6894-5fad-4e5e-9544-017fec7a1708",
   "metadata": {},
   "source": [
    "### Dynamic Typing"
   ]
  },
  {
   "cell_type": "code",
   "execution_count": null,
   "id": "ad0e1c45-a570-4130-b2db-5ff726e504b2",
   "metadata": {},
   "outputs": [],
   "source": [
    "a=12\n",
    "str1=\"Aashu\""
   ]
  },
  {
   "cell_type": "code",
   "execution_count": 34,
   "id": "8b12991a-c554-41ba-814d-dc0349c66874",
   "metadata": {},
   "outputs": [
    {
     "name": "stdout",
     "output_type": "stream",
     "text": [
      "<class 'int'>\n"
     ]
    }
   ],
   "source": [
    "print(type(a))"
   ]
  },
  {
   "cell_type": "code",
   "execution_count": 36,
   "id": "36045f23-82f5-4258-b2bb-6f7b71704909",
   "metadata": {},
   "outputs": [
    {
     "data": {
      "text/plain": [
       "1"
      ]
     },
     "execution_count": 36,
     "metadata": {},
     "output_type": "execute_result"
    }
   ],
   "source": [
    "int(1.54)"
   ]
  },
  {
   "cell_type": "markdown",
   "id": "f50ce7b1-5f2e-4cc4-9b12-d94136e44dd7",
   "metadata": {},
   "source": [
    "## Concatenation between different types"
   ]
  },
  {
   "cell_type": "code",
   "execution_count": null,
   "id": "e588a4ee-01df-4ef3-a175-31e861a69c72",
   "metadata": {},
   "outputs": [],
   "source": []
  },
  {
   "cell_type": "code",
   "execution_count": null,
   "id": "33b673f9-8bf6-4302-8da5-140f6870cba4",
   "metadata": {},
   "outputs": [],
   "source": []
  },
  {
   "cell_type": "code",
   "execution_count": null,
   "id": "4969eee5-a0df-4ffd-a5f7-f930bab01659",
   "metadata": {},
   "outputs": [],
   "source": []
  },
  {
   "cell_type": "code",
   "execution_count": null,
   "id": "74b08dd9-fff5-42cd-9b0d-5ffdae4325ab",
   "metadata": {},
   "outputs": [],
   "source": []
  }
 ],
 "metadata": {
  "kernelspec": {
   "display_name": "Python 3 (ipykernel)",
   "language": "python",
   "name": "python3"
  },
  "language_info": {
   "codemirror_mode": {
    "name": "ipython",
    "version": 3
   },
   "file_extension": ".py",
   "mimetype": "text/x-python",
   "name": "python",
   "nbconvert_exporter": "python",
   "pygments_lexer": "ipython3",
   "version": "3.10.8"
  }
 },
 "nbformat": 4,
 "nbformat_minor": 5
}
